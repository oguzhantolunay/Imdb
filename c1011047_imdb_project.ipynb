{
 "cells": [
  {
   "cell_type": "markdown",
   "metadata": {},
   "source": [
    "# IMDB MOVIES RECOMMENDER\n",
    "#Name and Surname: Oğuzhan Samet TOLUNAY\n",
    "#Number: 201011047"
   ]
  },
  {
   "cell_type": "code",
   "execution_count": 13,
   "metadata": {},
   "outputs": [],
   "source": [
    "#Libraries and Property\n",
    "import pandas as pd\n",
    "import numpy as np\n",
    "import matplotlib.pyplot as plt\n",
    "%matplotlib inline"
   ]
  },
  {
   "cell_type": "code",
   "execution_count": 70,
   "metadata": {},
   "outputs": [],
   "source": [
    "#  Project Goal\n",
    "#Recommender systems suggest relevant items to users by acquiring user preferences and exploiting them to build a type of \n",
    "#user model. The main purpose of such a system is to match the most suitable item for the constructed user model. And hence, \n",
    "#finding similar items for user preferences is the most crucial point of any recommender system. The state-of-art recommender\n",
    "#systems suffer from handling the data sparsity problem. For this reason, the proposed recommender system combines content \n",
    "#information of movie features (cast, director, genre, etc.) with a collaborative filtering approach. The similarity scores of\n",
    "#movie features are supplemented by a goal programming model in the content based approach. \n"
   ]
  },
  {
   "cell_type": "code",
   "execution_count": 5,
   "metadata": {},
   "outputs": [
    {
     "data": {
      "text/html": [
       "<img src=\"https://1.bp.blogspot.com/-pkfX2XdrpX8/WJBdMrZ2ZjI/AAAAAAAADw4/kptOuCt_orMOSsOqLLHCx4ed_PYDm48VwCLcB/s640/SPLIT_RED-600x888.jpg\"/>"
      ],
      "text/plain": [
       "<IPython.core.display.Image object>"
      ]
     },
     "execution_count": 5,
     "metadata": {},
     "output_type": "execute_result"
    }
   ],
   "source": [
    "from IPython.display import Image\n",
    "Image(url='https://1.bp.blogspot.com/-pkfX2XdrpX8/WJBdMrZ2ZjI/AAAAAAAADw4/kptOuCt_orMOSsOqLLHCx4ed_PYDm48VwCLcB/s640/SPLIT_RED-600x888.jpg')"
   ]
  },
  {
   "cell_type": "code",
   "execution_count": null,
   "metadata": {},
   "outputs": [],
   "source": [
    "#Read File and show head\n",
    "import pandas as pd\n",
    "movies=pd.read_csv('imdb.csv')\n",
    "movies.head()"
   ]
  },
  {
   "cell_type": "code",
   "execution_count": 4,
   "metadata": {},
   "outputs": [
    {
     "data": {
      "text/plain": [
       "1000"
      ]
     },
     "execution_count": 4,
     "metadata": {},
     "output_type": "execute_result"
    }
   ],
   "source": [
    "#Rank count\n",
    "movies.Rank.count()"
   ]
  },
  {
   "cell_type": "code",
   "execution_count": 7,
   "metadata": {},
   "outputs": [
    {
     "data": {
      "text/plain": [
       "1791916"
      ]
     },
     "execution_count": 7,
     "metadata": {},
     "output_type": "execute_result"
    }
   ],
   "source": [
    "#Max votes\n",
    "movies.Votes.max()"
   ]
  },
  {
   "cell_type": "code",
   "execution_count": 4,
   "metadata": {},
   "outputs": [
    {
     "data": {
      "text/html": [
       "<div>\n",
       "<style scoped>\n",
       "    .dataframe tbody tr th:only-of-type {\n",
       "        vertical-align: middle;\n",
       "    }\n",
       "\n",
       "    .dataframe tbody tr th {\n",
       "        vertical-align: top;\n",
       "    }\n",
       "\n",
       "    .dataframe thead th {\n",
       "        text-align: right;\n",
       "    }\n",
       "</style>\n",
       "<table border=\"1\" class=\"dataframe\">\n",
       "  <thead>\n",
       "    <tr style=\"text-align: right;\">\n",
       "      <th></th>\n",
       "      <th>Rank</th>\n",
       "      <th>Title</th>\n",
       "      <th>Genre</th>\n",
       "      <th>Description</th>\n",
       "      <th>Director</th>\n",
       "      <th>Actors</th>\n",
       "      <th>Year</th>\n",
       "      <th>Runtime</th>\n",
       "      <th>Rating</th>\n",
       "      <th>Votes</th>\n",
       "      <th>Revenue (Millions)</th>\n",
       "      <th>Metascore</th>\n",
       "    </tr>\n",
       "  </thead>\n",
       "  <tbody>\n",
       "    <tr>\n",
       "      <th>999</th>\n",
       "      <td>1000</td>\n",
       "      <td>Nine Lives</td>\n",
       "      <td>Comedy,Family,Fantasy</td>\n",
       "      <td>A stuffy businessman finds himself trapped ins...</td>\n",
       "      <td>Barry Sonnenfeld</td>\n",
       "      <td>Kevin Spacey, Jennifer Garner, Robbie Amell,Ch...</td>\n",
       "      <td>2016</td>\n",
       "      <td>87</td>\n",
       "      <td>5.3</td>\n",
       "      <td>12435</td>\n",
       "      <td>19.64</td>\n",
       "      <td>11.0</td>\n",
       "    </tr>\n",
       "  </tbody>\n",
       "</table>\n",
       "</div>"
      ],
      "text/plain": [
       "     Rank       Title                  Genre  \\\n",
       "999  1000  Nine Lives  Comedy,Family,Fantasy   \n",
       "\n",
       "                                           Description          Director  \\\n",
       "999  A stuffy businessman finds himself trapped ins...  Barry Sonnenfeld   \n",
       "\n",
       "                                                Actors  Year  Runtime  Rating  \\\n",
       "999  Kevin Spacey, Jennifer Garner, Robbie Amell,Ch...  2016       87     5.3   \n",
       "\n",
       "     Votes  Revenue (Millions)  Metascore  \n",
       "999  12435               19.64       11.0  "
      ]
     },
     "execution_count": 4,
     "metadata": {},
     "output_type": "execute_result"
    }
   ],
   "source": [
    "#Min metascore\n",
    "movies[movies.Metascore==movies.Metascore.min()]"
   ]
  },
  {
   "cell_type": "code",
   "execution_count": 24,
   "metadata": {},
   "outputs": [
    {
     "name": "stdout",
     "output_type": "stream",
     "text": [
      "Enter a genre: Comedy\n"
     ]
    },
    {
     "data": {
      "text/html": [
       "<div>\n",
       "<style scoped>\n",
       "    .dataframe tbody tr th:only-of-type {\n",
       "        vertical-align: middle;\n",
       "    }\n",
       "\n",
       "    .dataframe tbody tr th {\n",
       "        vertical-align: top;\n",
       "    }\n",
       "\n",
       "    .dataframe thead th {\n",
       "        text-align: right;\n",
       "    }\n",
       "</style>\n",
       "<table border=\"1\" class=\"dataframe\">\n",
       "  <thead>\n",
       "    <tr style=\"text-align: right;\">\n",
       "      <th></th>\n",
       "      <th>Rank</th>\n",
       "      <th>Title</th>\n",
       "      <th>Genre</th>\n",
       "      <th>Description</th>\n",
       "      <th>Director</th>\n",
       "      <th>Actors</th>\n",
       "      <th>Year</th>\n",
       "      <th>Runtime</th>\n",
       "      <th>Rating</th>\n",
       "      <th>Votes</th>\n",
       "      <th>Revenue (Millions)</th>\n",
       "      <th>Metascore</th>\n",
       "    </tr>\n",
       "  </thead>\n",
       "  <tbody>\n",
       "    <tr>\n",
       "      <th>7</th>\n",
       "      <td>8</td>\n",
       "      <td>Mindhorn</td>\n",
       "      <td>Comedy</td>\n",
       "      <td>A has-been actor best known for playing the ti...</td>\n",
       "      <td>Sean Foley</td>\n",
       "      <td>Essie Davis, Andrea Riseborough, Julian Barrat...</td>\n",
       "      <td>2016</td>\n",
       "      <td>89</td>\n",
       "      <td>6.4</td>\n",
       "      <td>2490</td>\n",
       "      <td>NaN</td>\n",
       "      <td>71.0</td>\n",
       "    </tr>\n",
       "    <tr>\n",
       "      <th>25</th>\n",
       "      <td>26</td>\n",
       "      <td>Paris pieds nus</td>\n",
       "      <td>Comedy</td>\n",
       "      <td>Fiona visits Paris for the first time to assis...</td>\n",
       "      <td>Dominique Abel</td>\n",
       "      <td>Fiona Gordon, Dominique Abel,Emmanuelle Riva, ...</td>\n",
       "      <td>2016</td>\n",
       "      <td>83</td>\n",
       "      <td>6.8</td>\n",
       "      <td>222</td>\n",
       "      <td>NaN</td>\n",
       "      <td>NaN</td>\n",
       "    </tr>\n",
       "    <tr>\n",
       "      <th>28</th>\n",
       "      <td>29</td>\n",
       "      <td>Bad Moms</td>\n",
       "      <td>Comedy</td>\n",
       "      <td>When three overworked and under-appreciated mo...</td>\n",
       "      <td>Jon Lucas</td>\n",
       "      <td>Mila Kunis, Kathryn Hahn, Kristen Bell,Christi...</td>\n",
       "      <td>2016</td>\n",
       "      <td>100</td>\n",
       "      <td>6.2</td>\n",
       "      <td>66540</td>\n",
       "      <td>113.08</td>\n",
       "      <td>60.0</td>\n",
       "    </tr>\n",
       "    <tr>\n",
       "      <th>30</th>\n",
       "      <td>31</td>\n",
       "      <td>Why Him?</td>\n",
       "      <td>Comedy</td>\n",
       "      <td>A holiday gathering threatens to go off the ra...</td>\n",
       "      <td>John Hamburg</td>\n",
       "      <td>Zoey Deutch, James Franco, Tangie Ambrose,Cedr...</td>\n",
       "      <td>2016</td>\n",
       "      <td>111</td>\n",
       "      <td>6.3</td>\n",
       "      <td>48123</td>\n",
       "      <td>60.31</td>\n",
       "      <td>39.0</td>\n",
       "    </tr>\n",
       "    <tr>\n",
       "      <th>106</th>\n",
       "      <td>107</td>\n",
       "      <td>The Comedian</td>\n",
       "      <td>Comedy</td>\n",
       "      <td>A look at the life of an aging insult comic na...</td>\n",
       "      <td>Taylor Hackford</td>\n",
       "      <td>Robert De Niro, Leslie Mann, Danny DeVito, Edi...</td>\n",
       "      <td>2016</td>\n",
       "      <td>120</td>\n",
       "      <td>5.4</td>\n",
       "      <td>1954</td>\n",
       "      <td>1.66</td>\n",
       "      <td>40.0</td>\n",
       "    </tr>\n",
       "    <tr>\n",
       "      <th>115</th>\n",
       "      <td>116</td>\n",
       "      <td>Office Christmas Party</td>\n",
       "      <td>Comedy</td>\n",
       "      <td>When his uptight CEO sister threatens to shut ...</td>\n",
       "      <td>Josh Gordon</td>\n",
       "      <td>Jason Bateman, Olivia Munn, T.J. Miller,Jennif...</td>\n",
       "      <td>2016</td>\n",
       "      <td>105</td>\n",
       "      <td>5.8</td>\n",
       "      <td>30761</td>\n",
       "      <td>54.73</td>\n",
       "      <td>42.0</td>\n",
       "    </tr>\n",
       "    <tr>\n",
       "      <th>148</th>\n",
       "      <td>149</td>\n",
       "      <td>Superbad</td>\n",
       "      <td>Comedy</td>\n",
       "      <td>Two co-dependent high school seniors are force...</td>\n",
       "      <td>Greg Mottola</td>\n",
       "      <td>Michael Cera, Jonah Hill, Christopher Mintz-Pl...</td>\n",
       "      <td>2007</td>\n",
       "      <td>113</td>\n",
       "      <td>7.6</td>\n",
       "      <td>442082</td>\n",
       "      <td>121.46</td>\n",
       "      <td>76.0</td>\n",
       "    </tr>\n",
       "    <tr>\n",
       "      <th>255</th>\n",
       "      <td>256</td>\n",
       "      <td>The Hangover</td>\n",
       "      <td>Comedy</td>\n",
       "      <td>Three buddies wake up from a bachelor party in...</td>\n",
       "      <td>Todd Phillips</td>\n",
       "      <td>Zach Galifianakis, Bradley Cooper, Justin Bart...</td>\n",
       "      <td>2009</td>\n",
       "      <td>100</td>\n",
       "      <td>7.8</td>\n",
       "      <td>611563</td>\n",
       "      <td>277.31</td>\n",
       "      <td>73.0</td>\n",
       "    </tr>\n",
       "    <tr>\n",
       "      <th>266</th>\n",
       "      <td>267</td>\n",
       "      <td>Dirty Grandpa</td>\n",
       "      <td>Comedy</td>\n",
       "      <td>Right before his wedding, an uptight guy is tr...</td>\n",
       "      <td>Dan Mazer</td>\n",
       "      <td>Robert De Niro, Zac Efron, Zoey Deutch, Aubrey...</td>\n",
       "      <td>2016</td>\n",
       "      <td>102</td>\n",
       "      <td>6.0</td>\n",
       "      <td>75137</td>\n",
       "      <td>35.54</td>\n",
       "      <td>18.0</td>\n",
       "    </tr>\n",
       "    <tr>\n",
       "      <th>278</th>\n",
       "      <td>279</td>\n",
       "      <td>Everybody Wants Some!!</td>\n",
       "      <td>Comedy</td>\n",
       "      <td>In 1980, a group of college baseball players n...</td>\n",
       "      <td>Richard Linklater</td>\n",
       "      <td>Blake Jenner, Tyler Hoechlin, Ryan Guzman,Zoey...</td>\n",
       "      <td>2016</td>\n",
       "      <td>117</td>\n",
       "      <td>7.0</td>\n",
       "      <td>36312</td>\n",
       "      <td>3.37</td>\n",
       "      <td>83.0</td>\n",
       "    </tr>\n",
       "  </tbody>\n",
       "</table>\n",
       "</div>"
      ],
      "text/plain": [
       "     Rank                   Title   Genre  \\\n",
       "7       8                Mindhorn  Comedy   \n",
       "25     26         Paris pieds nus  Comedy   \n",
       "28     29                Bad Moms  Comedy   \n",
       "30     31                Why Him?  Comedy   \n",
       "106   107            The Comedian  Comedy   \n",
       "115   116  Office Christmas Party  Comedy   \n",
       "148   149                Superbad  Comedy   \n",
       "255   256            The Hangover  Comedy   \n",
       "266   267           Dirty Grandpa  Comedy   \n",
       "278   279  Everybody Wants Some!!  Comedy   \n",
       "\n",
       "                                           Description           Director  \\\n",
       "7    A has-been actor best known for playing the ti...         Sean Foley   \n",
       "25   Fiona visits Paris for the first time to assis...     Dominique Abel   \n",
       "28   When three overworked and under-appreciated mo...          Jon Lucas   \n",
       "30   A holiday gathering threatens to go off the ra...       John Hamburg   \n",
       "106  A look at the life of an aging insult comic na...    Taylor Hackford   \n",
       "115  When his uptight CEO sister threatens to shut ...        Josh Gordon   \n",
       "148  Two co-dependent high school seniors are force...       Greg Mottola   \n",
       "255  Three buddies wake up from a bachelor party in...      Todd Phillips   \n",
       "266  Right before his wedding, an uptight guy is tr...          Dan Mazer   \n",
       "278  In 1980, a group of college baseball players n...  Richard Linklater   \n",
       "\n",
       "                                                Actors  Year  Runtime  Rating  \\\n",
       "7    Essie Davis, Andrea Riseborough, Julian Barrat...  2016       89     6.4   \n",
       "25   Fiona Gordon, Dominique Abel,Emmanuelle Riva, ...  2016       83     6.8   \n",
       "28   Mila Kunis, Kathryn Hahn, Kristen Bell,Christi...  2016      100     6.2   \n",
       "30   Zoey Deutch, James Franco, Tangie Ambrose,Cedr...  2016      111     6.3   \n",
       "106  Robert De Niro, Leslie Mann, Danny DeVito, Edi...  2016      120     5.4   \n",
       "115  Jason Bateman, Olivia Munn, T.J. Miller,Jennif...  2016      105     5.8   \n",
       "148  Michael Cera, Jonah Hill, Christopher Mintz-Pl...  2007      113     7.6   \n",
       "255  Zach Galifianakis, Bradley Cooper, Justin Bart...  2009      100     7.8   \n",
       "266  Robert De Niro, Zac Efron, Zoey Deutch, Aubrey...  2016      102     6.0   \n",
       "278  Blake Jenner, Tyler Hoechlin, Ryan Guzman,Zoey...  2016      117     7.0   \n",
       "\n",
       "      Votes  Revenue (Millions)  Metascore  \n",
       "7      2490                 NaN       71.0  \n",
       "25      222                 NaN        NaN  \n",
       "28    66540              113.08       60.0  \n",
       "30    48123               60.31       39.0  \n",
       "106    1954                1.66       40.0  \n",
       "115   30761               54.73       42.0  \n",
       "148  442082              121.46       76.0  \n",
       "255  611563              277.31       73.0  \n",
       "266   75137               35.54       18.0  \n",
       "278   36312                3.37       83.0  "
      ]
     },
     "execution_count": 24,
     "metadata": {},
     "output_type": "execute_result"
    }
   ],
   "source": [
    "#Enter a genre print head\n",
    "x=str(input(\"Enter a genre: \"))\n",
    "movies[movies.Genre==x].head(10)"
   ]
  },
  {
   "cell_type": "code",
   "execution_count": 6,
   "metadata": {},
   "outputs": [
    {
     "name": "stdout",
     "output_type": "stream",
     "text": [
      "median minutes: 111.0\n",
      "average rating: 6.723200000000003\n"
     ]
    }
   ],
   "source": [
    "#Using median minutes and mean rating\n",
    "minutes=movies.Runtime.median()\n",
    "rating=movies.Rating.mean()\n",
    "print(\"median minutes:\",minutes)\n",
    "print(\"average rating:\",rating)"
   ]
  },
  {
   "cell_type": "code",
   "execution_count": 29,
   "metadata": {},
   "outputs": [
    {
     "data": {
      "text/plain": [
       "Rank                     500.500\n",
       "Year                    2014.000\n",
       "Runtime                  111.000\n",
       "Rating                     6.800\n",
       "Votes                 110799.000\n",
       "Revenue (Millions)        47.985\n",
       "Metascore                 59.500\n",
       "Name: 0.5, dtype: float64"
      ]
     },
     "execution_count": 29,
     "metadata": {},
     "output_type": "execute_result"
    }
   ],
   "source": [
    "#Runtime and Year histogram graphic\n",
    "movies[['Runtime','Year']].hist()"
   ]
  },
  {
   "cell_type": "code",
   "execution_count": 8,
   "metadata": {},
   "outputs": [
    {
     "data": {
      "text/html": [
       "<div>\n",
       "<style scoped>\n",
       "    .dataframe tbody tr th:only-of-type {\n",
       "        vertical-align: middle;\n",
       "    }\n",
       "\n",
       "    .dataframe tbody tr th {\n",
       "        vertical-align: top;\n",
       "    }\n",
       "\n",
       "    .dataframe thead th {\n",
       "        text-align: right;\n",
       "    }\n",
       "</style>\n",
       "<table border=\"1\" class=\"dataframe\">\n",
       "  <thead>\n",
       "    <tr style=\"text-align: right;\">\n",
       "      <th></th>\n",
       "      <th>Rank</th>\n",
       "      <th>Year</th>\n",
       "      <th>Runtime</th>\n",
       "      <th>Rating</th>\n",
       "      <th>Votes</th>\n",
       "      <th>Revenue (Millions)</th>\n",
       "      <th>Metascore</th>\n",
       "    </tr>\n",
       "  </thead>\n",
       "  <tbody>\n",
       "    <tr>\n",
       "      <th>count</th>\n",
       "      <td>1000.000000</td>\n",
       "      <td>1000.000000</td>\n",
       "      <td>1000.000000</td>\n",
       "      <td>1000.000000</td>\n",
       "      <td>1.000000e+03</td>\n",
       "      <td>872.000000</td>\n",
       "      <td>936.000000</td>\n",
       "    </tr>\n",
       "    <tr>\n",
       "      <th>mean</th>\n",
       "      <td>500.500000</td>\n",
       "      <td>2012.783000</td>\n",
       "      <td>113.172000</td>\n",
       "      <td>6.723200</td>\n",
       "      <td>1.698083e+05</td>\n",
       "      <td>82.956376</td>\n",
       "      <td>58.985043</td>\n",
       "    </tr>\n",
       "    <tr>\n",
       "      <th>std</th>\n",
       "      <td>288.819436</td>\n",
       "      <td>3.205962</td>\n",
       "      <td>18.810908</td>\n",
       "      <td>0.945429</td>\n",
       "      <td>1.887626e+05</td>\n",
       "      <td>103.253540</td>\n",
       "      <td>17.194757</td>\n",
       "    </tr>\n",
       "    <tr>\n",
       "      <th>min</th>\n",
       "      <td>1.000000</td>\n",
       "      <td>2006.000000</td>\n",
       "      <td>66.000000</td>\n",
       "      <td>1.900000</td>\n",
       "      <td>6.100000e+01</td>\n",
       "      <td>0.000000</td>\n",
       "      <td>11.000000</td>\n",
       "    </tr>\n",
       "    <tr>\n",
       "      <th>25%</th>\n",
       "      <td>250.750000</td>\n",
       "      <td>2010.000000</td>\n",
       "      <td>100.000000</td>\n",
       "      <td>6.200000</td>\n",
       "      <td>3.630900e+04</td>\n",
       "      <td>13.270000</td>\n",
       "      <td>47.000000</td>\n",
       "    </tr>\n",
       "    <tr>\n",
       "      <th>50%</th>\n",
       "      <td>500.500000</td>\n",
       "      <td>2014.000000</td>\n",
       "      <td>111.000000</td>\n",
       "      <td>6.800000</td>\n",
       "      <td>1.107990e+05</td>\n",
       "      <td>47.985000</td>\n",
       "      <td>59.500000</td>\n",
       "    </tr>\n",
       "    <tr>\n",
       "      <th>75%</th>\n",
       "      <td>750.250000</td>\n",
       "      <td>2016.000000</td>\n",
       "      <td>123.000000</td>\n",
       "      <td>7.400000</td>\n",
       "      <td>2.399098e+05</td>\n",
       "      <td>113.715000</td>\n",
       "      <td>72.000000</td>\n",
       "    </tr>\n",
       "    <tr>\n",
       "      <th>max</th>\n",
       "      <td>1000.000000</td>\n",
       "      <td>2016.000000</td>\n",
       "      <td>191.000000</td>\n",
       "      <td>9.000000</td>\n",
       "      <td>1.791916e+06</td>\n",
       "      <td>936.630000</td>\n",
       "      <td>100.000000</td>\n",
       "    </tr>\n",
       "  </tbody>\n",
       "</table>\n",
       "</div>"
      ],
      "text/plain": [
       "              Rank         Year      Runtime       Rating         Votes  \\\n",
       "count  1000.000000  1000.000000  1000.000000  1000.000000  1.000000e+03   \n",
       "mean    500.500000  2012.783000   113.172000     6.723200  1.698083e+05   \n",
       "std     288.819436     3.205962    18.810908     0.945429  1.887626e+05   \n",
       "min       1.000000  2006.000000    66.000000     1.900000  6.100000e+01   \n",
       "25%     250.750000  2010.000000   100.000000     6.200000  3.630900e+04   \n",
       "50%     500.500000  2014.000000   111.000000     6.800000  1.107990e+05   \n",
       "75%     750.250000  2016.000000   123.000000     7.400000  2.399098e+05   \n",
       "max    1000.000000  2016.000000   191.000000     9.000000  1.791916e+06   \n",
       "\n",
       "       Revenue (Millions)   Metascore  \n",
       "count          872.000000  936.000000  \n",
       "mean            82.956376   58.985043  \n",
       "std            103.253540   17.194757  \n",
       "min              0.000000   11.000000  \n",
       "25%             13.270000   47.000000  \n",
       "50%             47.985000   59.500000  \n",
       "75%            113.715000   72.000000  \n",
       "max            936.630000  100.000000  "
      ]
     },
     "execution_count": 8,
     "metadata": {},
     "output_type": "execute_result"
    }
   ],
   "source": [
    "#Movies data describe\n",
    "movies.describe()"
   ]
  },
  {
   "cell_type": "code",
   "execution_count": 9,
   "metadata": {},
   "outputs": [
    {
     "data": {
      "text/html": [
       "<div>\n",
       "<style scoped>\n",
       "    .dataframe tbody tr th:only-of-type {\n",
       "        vertical-align: middle;\n",
       "    }\n",
       "\n",
       "    .dataframe tbody tr th {\n",
       "        vertical-align: top;\n",
       "    }\n",
       "\n",
       "    .dataframe thead th {\n",
       "        text-align: right;\n",
       "    }\n",
       "</style>\n",
       "<table border=\"1\" class=\"dataframe\">\n",
       "  <thead>\n",
       "    <tr style=\"text-align: right;\">\n",
       "      <th></th>\n",
       "      <th>Runtime</th>\n",
       "      <th>Metascore</th>\n",
       "    </tr>\n",
       "  </thead>\n",
       "  <tbody>\n",
       "    <tr>\n",
       "      <th>Runtime</th>\n",
       "      <td>1.000000</td>\n",
       "      <td>0.211978</td>\n",
       "    </tr>\n",
       "    <tr>\n",
       "      <th>Metascore</th>\n",
       "      <td>0.211978</td>\n",
       "      <td>1.000000</td>\n",
       "    </tr>\n",
       "  </tbody>\n",
       "</table>\n",
       "</div>"
      ],
      "text/plain": [
       "            Runtime  Metascore\n",
       "Runtime    1.000000   0.211978\n",
       "Metascore  0.211978   1.000000"
      ]
     },
     "execution_count": 9,
     "metadata": {},
     "output_type": "execute_result"
    }
   ],
   "source": [
    "#Runtime and metascore correlation\n",
    "movies[['Runtime','Metascore']].corr()"
   ]
  },
  {
   "cell_type": "code",
   "execution_count": 10,
   "metadata": {},
   "outputs": [
    {
     "name": "stdout",
     "output_type": "stream",
     "text": [
      "Enter a rating scores: 7.9\n",
      "0                           Guardians of the Galaxy\n",
      "6                                        La La Land\n",
      "12                                        Rogue One\n",
      "16                                    Hacksaw Ridge\n",
      "18                                             Lion\n",
      "19                                          Arrival\n",
      "21                            Manchester by the Sea\n",
      "26                          Bahubali: The Beginning\n",
      "33                                         Deadpool\n",
      "35                       Captain America: Civil War\n",
      "36                                     Interstellar\n",
      "50       Star Wars: Episode VII - The Force Awakens\n",
      "54                                  The Dark Knight\n",
      "64                                     The Prestige\n",
      "67                               Mad Max: Fury Road\n",
      "74                                         Zootopia\n",
      "76                                     The Avengers\n",
      "77                             Inglourious Basterds\n",
      "80                                        Inception\n",
      "81                                Captain Fantastic\n",
      "82                          The Wolf of Wall Street\n",
      "83                                        Gone Girl\n",
      "90                                        Prisoners\n",
      "92                                         The Help\n",
      "96                                    Kimi no na wa\n",
      "99                                     The Departed\n",
      "102                                     The Martian\n",
      "103                                    Contratiempo\n",
      "111                                12 Years a Slave\n",
      "114    Harry Potter and the Deathly Hallows: Part 2\n",
      "                           ...                     \n",
      "455                                          Jagten\n",
      "468                                      District 9\n",
      "476                             The Lives of Others\n",
      "478                                  Paint It Black\n",
      "489                                     Ratatouille\n",
      "499                                              Up\n",
      "504                                      Mr. Nobody\n",
      "518             The Hobbit: The Desolation of Smaug\n",
      "549                                 I, Daniel Blake\n",
      "598                                            Moon\n",
      "608                                           Mommy\n",
      "634                                          WALL·E\n",
      "640                        The Pursuit of Happyness\n",
      "641                                Relatos salvajes\n",
      "645                                     Gran Torino\n",
      "656                                         Boyhood\n",
      "669                                   Blood Diamond\n",
      "685                               The King's Speech\n",
      "688                                     Toy Story 3\n",
      "694                                      Life of Pi\n",
      "695                             Hachi: A Dog's Tale\n",
      "713                                       Incendies\n",
      "742                          El secreto de sus ojos\n",
      "752                                       In Bruges\n",
      "765                                              PK\n",
      "772                        How to Train Your Dragon\n",
      "861                                  Koe no katachi\n",
      "897                                        The Fall\n",
      "903                      How to Train Your Dragon 2\n",
      "991                                Taare Zameen Par\n",
      "Name: Title, Length: 101, dtype: object\n"
     ]
    }
   ],
   "source": [
    "#Displays the name of scoring movies with equal or higher than the user's entered imdb score.\n",
    "\n",
    "x=float(input(\"Enter a rating scores: \"))\n",
    "a=movies[(movies['Rating']>x)|(movies['Rating']==x)].Title\n",
    "print(a)"
   ]
  },
  {
   "cell_type": "code",
   "execution_count": 58,
   "metadata": {},
   "outputs": [
    {
     "name": "stdout",
     "output_type": "stream",
     "text": [
      "Enter a film name: Split\n",
      "2    7.3\n",
      "Name: Rating, dtype: float64\n"
     ]
    }
   ],
   "source": [
    "#Displays the imdb score of the movie name that the user has entered.\n",
    "\n",
    "y=str(input(\"Enter a film name: \"))\n",
    "a=movies[movies['Title']==y].Rating\n",
    "print(a)"
   ]
  },
  {
   "cell_type": "code",
   "execution_count": 11,
   "metadata": {},
   "outputs": [
    {
     "data": {
      "text/plain": [
       "(1000, 12)"
      ]
     },
     "execution_count": 11,
     "metadata": {},
     "output_type": "execute_result"
    }
   ],
   "source": [
    "movies.shape"
   ]
  },
  {
   "cell_type": "code",
   "execution_count": 14,
   "metadata": {},
   "outputs": [
    {
     "data": {
      "image/png": "[encoded data removed]",
      "text/plain": [
       "<Figure size 432x288 with 1 Axes>"
      ]
     },
     "metadata": {
      "needs_background": "light"
     },
     "output_type": "display_data"
    }
   ],
   "source": [
    "plt.plot([x for x in range(len(movies.Rating))], movies.Rating, label='Rating')\n",
    "plt.xlabel('Rating')\n",
    "plt.title(\"Movies Ratings\")\n",
    "plt.legend()\n",
    "plt.show()"
   ]
  },
  {
   "cell_type": "code",
   "execution_count": 15,
   "metadata": {},
   "outputs": [
    {
     "data": {
      "image/png": "[encoded data removed]",
      "text/plain": [
       "<Figure size 432x288 with 1 Axes>"
      ]
     },
     "metadata": {
      "needs_background": "light"
     },
     "output_type": "display_data"
    }
   ],
   "source": [
    "plt.plot([x for x in range(len(movies.Votes))], movies.Votes, label='Votes')\n",
    "plt.xlabel('Votes')\n",
    "plt.title(\"Movies Votes\")\n",
    "plt.legend()\n",
    "plt.show()"
   ]
  },
  {
   "cell_type": "code",
   "execution_count": 30,
   "metadata": {},
   "outputs": [
    {
     "data": {
      "text/html": [
       "<div>\n",
       "<style scoped>\n",
       "    .dataframe tbody tr th:only-of-type {\n",
       "        vertical-align: middle;\n",
       "    }\n",
       "\n",
       "    .dataframe tbody tr th {\n",
       "        vertical-align: top;\n",
       "    }\n",
       "\n",
       "    .dataframe thead th {\n",
       "        text-align: right;\n",
       "    }\n",
       "</style>\n",
       "<table border=\"1\" class=\"dataframe\">\n",
       "  <thead>\n",
       "    <tr style=\"text-align: right;\">\n",
       "      <th></th>\n",
       "      <th>Rank</th>\n",
       "      <th>Year</th>\n",
       "      <th>Runtime</th>\n",
       "      <th>Rating</th>\n",
       "      <th>Votes</th>\n",
       "      <th>Revenue (Millions)</th>\n",
       "      <th>Metascore</th>\n",
       "    </tr>\n",
       "  </thead>\n",
       "  <tbody>\n",
       "    <tr>\n",
       "      <th>Rank</th>\n",
       "      <td>1.000000</td>\n",
       "      <td>-0.261605</td>\n",
       "      <td>-0.221739</td>\n",
       "      <td>-0.219555</td>\n",
       "      <td>-0.283876</td>\n",
       "      <td>-0.271592</td>\n",
       "      <td>-0.191869</td>\n",
       "    </tr>\n",
       "    <tr>\n",
       "      <th>Year</th>\n",
       "      <td>-0.261605</td>\n",
       "      <td>1.000000</td>\n",
       "      <td>-0.164900</td>\n",
       "      <td>-0.211219</td>\n",
       "      <td>-0.411904</td>\n",
       "      <td>-0.126790</td>\n",
       "      <td>-0.079305</td>\n",
       "    </tr>\n",
       "    <tr>\n",
       "      <th>Runtime</th>\n",
       "      <td>-0.221739</td>\n",
       "      <td>-0.164900</td>\n",
       "      <td>1.000000</td>\n",
       "      <td>0.392214</td>\n",
       "      <td>0.407062</td>\n",
       "      <td>0.267953</td>\n",
       "      <td>0.211978</td>\n",
       "    </tr>\n",
       "    <tr>\n",
       "      <th>Rating</th>\n",
       "      <td>-0.219555</td>\n",
       "      <td>-0.211219</td>\n",
       "      <td>0.392214</td>\n",
       "      <td>1.000000</td>\n",
       "      <td>0.511537</td>\n",
       "      <td>0.217654</td>\n",
       "      <td>0.631897</td>\n",
       "    </tr>\n",
       "    <tr>\n",
       "      <th>Votes</th>\n",
       "      <td>-0.283876</td>\n",
       "      <td>-0.411904</td>\n",
       "      <td>0.407062</td>\n",
       "      <td>0.511537</td>\n",
       "      <td>1.000000</td>\n",
       "      <td>0.639661</td>\n",
       "      <td>0.325684</td>\n",
       "    </tr>\n",
       "    <tr>\n",
       "      <th>Revenue (Millions)</th>\n",
       "      <td>-0.271592</td>\n",
       "      <td>-0.126790</td>\n",
       "      <td>0.267953</td>\n",
       "      <td>0.217654</td>\n",
       "      <td>0.639661</td>\n",
       "      <td>1.000000</td>\n",
       "      <td>0.142397</td>\n",
       "    </tr>\n",
       "    <tr>\n",
       "      <th>Metascore</th>\n",
       "      <td>-0.191869</td>\n",
       "      <td>-0.079305</td>\n",
       "      <td>0.211978</td>\n",
       "      <td>0.631897</td>\n",
       "      <td>0.325684</td>\n",
       "      <td>0.142397</td>\n",
       "      <td>1.000000</td>\n",
       "    </tr>\n",
       "  </tbody>\n",
       "</table>\n",
       "</div>"
      ],
      "text/plain": [
       "                        Rank      Year   Runtime    Rating     Votes  \\\n",
       "Rank                1.000000 -0.261605 -0.221739 -0.219555 -0.283876   \n",
       "Year               -0.261605  1.000000 -0.164900 -0.211219 -0.411904   \n",
       "Runtime            -0.221739 -0.164900  1.000000  0.392214  0.407062   \n",
       "Rating             -0.219555 -0.211219  0.392214  1.000000  0.511537   \n",
       "Votes              -0.283876 -0.411904  0.407062  0.511537  1.000000   \n",
       "Revenue (Millions) -0.271592 -0.126790  0.267953  0.217654  0.639661   \n",
       "Metascore          -0.191869 -0.079305  0.211978  0.631897  0.325684   \n",
       "\n",
       "                    Revenue (Millions)  Metascore  \n",
       "Rank                         -0.271592  -0.191869  \n",
       "Year                         -0.126790  -0.079305  \n",
       "Runtime                       0.267953   0.211978  \n",
       "Rating                        0.217654   0.631897  \n",
       "Votes                         0.639661   0.325684  \n",
       "Revenue (Millions)            1.000000   0.142397  \n",
       "Metascore                     0.142397   1.000000  "
      ]
     },
     "execution_count": 30,
     "metadata": {},
     "output_type": "execute_result"
    }
   ],
   "source": [
    "movies.corr()"
   ]
  },
  {
   "cell_type": "code",
   "execution_count": 47,
   "metadata": {},
   "outputs": [
    {
     "name": "stdout",
     "output_type": "stream",
     "text": [
      "Enter a quantile number for metascore?(0-1 between)0.35\n"
     ]
    },
    {
     "data": {
      "text/plain": [
       "52.0"
      ]
     },
     "execution_count": 47,
     "metadata": {},
     "output_type": "execute_result"
    }
   ],
   "source": [
    "#Find quantile metascores\n",
    "a=float(input(\"Enter a quantile number for metascore?(0-1 between)\"))\n",
    "movies['Metascore'].quantile(a)"
   ]
  },
  {
   "cell_type": "code",
   "execution_count": 66,
   "metadata": {},
   "outputs": [
    {
     "data": {
      "text/plain": [
       "Action,Adventure,Sci-Fi    50\n",
       "Drama                      48\n",
       "Comedy,Drama,Romance       35\n",
       "Comedy                     32\n",
       "Drama,Romance              31\n",
       "dtype: int64"
      ]
     },
     "execution_count": 66,
     "metadata": {},
     "output_type": "execute_result"
    }
   ],
   "source": [
    "#Number of movies types\n",
    "s = movies.apply(lambda x: pd.Series(x['Genre']),axis=1).stack().reset_index(level=1, drop=True)\n",
    "s = s.value_counts()\n",
    "s[:5]"
   ]
  }
 ],
 "metadata": {
  "kernelspec": {
   "display_name": "Python 3",
   "language": "python",
   "name": "python3"
  },
  "language_info": {
   "codemirror_mode": {
    "name": "ipython",
    "version": 3
   },
   "file_extension": ".py",
   "mimetype": "text/x-python",
   "name": "python",
   "nbconvert_exporter": "python",
   "pygments_lexer": "ipython3",
   "version": "3.7.0"
  }
 },
 "nbformat": 4,
 "nbformat_minor": 2
}
